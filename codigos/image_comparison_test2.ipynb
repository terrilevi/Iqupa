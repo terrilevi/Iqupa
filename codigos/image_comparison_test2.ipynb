{
 "cells": [
  {
   "cell_type": "code",
   "execution_count": 6,
   "metadata": {},
   "outputs": [
    {
     "ename": "ImportError",
     "evalue": "cannot import name 'compare_ssim' from 'skimage.measure' (/home/stevend/anaconda3/lib/python3.9/site-packages/skimage/measure/__init__.py)",
     "output_type": "error",
     "traceback": [
      "\u001b[0;31m---------------------------------------------------------------------------\u001b[0m",
      "\u001b[0;31mImportError\u001b[0m                               Traceback (most recent call last)",
      "\u001b[0;32m/tmp/ipykernel_84873/1589701495.py\u001b[0m in \u001b[0;36m<module>\u001b[0;34m\u001b[0m\n\u001b[1;32m      3\u001b[0m \u001b[0;32mimport\u001b[0m \u001b[0mmatplotlib\u001b[0m\u001b[0;34m.\u001b[0m\u001b[0mpyplot\u001b[0m \u001b[0;32mas\u001b[0m \u001b[0mplt\u001b[0m\u001b[0;34m\u001b[0m\u001b[0;34m\u001b[0m\u001b[0m\n\u001b[1;32m      4\u001b[0m \u001b[0;32mimport\u001b[0m \u001b[0mimutils\u001b[0m\u001b[0;34m\u001b[0m\u001b[0;34m\u001b[0m\u001b[0m\n\u001b[0;32m----> 5\u001b[0;31m \u001b[0;32mfrom\u001b[0m \u001b[0mskimage\u001b[0m\u001b[0;34m.\u001b[0m\u001b[0mmeasure\u001b[0m \u001b[0;32mimport\u001b[0m \u001b[0mcompare_ssim\u001b[0m\u001b[0;34m\u001b[0m\u001b[0;34m\u001b[0m\u001b[0m\n\u001b[0m",
      "\u001b[0;31mImportError\u001b[0m: cannot import name 'compare_ssim' from 'skimage.measure' (/home/stevend/anaconda3/lib/python3.9/site-packages/skimage/measure/__init__.py)"
     ]
    }
   ],
   "source": [
    "import cv2\n",
    "import numpy as np\n",
    "import matplotlib.pyplot as plt\n",
    "import imutils\n",
    "from skimage.measure import compare_ssim"
   ]
  },
  {
   "cell_type": "code",
   "execution_count": 4,
   "metadata": {},
   "outputs": [
    {
     "name": "stdout",
     "output_type": "stream",
     "text": [
      "Collecting imutils\n",
      "  Downloading imutils-0.5.4.tar.gz (17 kB)\n",
      "  Preparing metadata (setup.py) ... \u001b[?25ldone\n",
      "\u001b[?25hBuilding wheels for collected packages: imutils\n",
      "  Building wheel for imutils (setup.py) ... \u001b[?25ldone\n",
      "\u001b[?25h  Created wheel for imutils: filename=imutils-0.5.4-py3-none-any.whl size=25836 sha256=6e4644396bef437cde58d08f06edbfd314e21a9d87e028d9329394e77130dd99\n",
      "  Stored in directory: /home/stevend/.cache/pip/wheels/4b/a5/2d/4a070a801d3a3d93f033d3ee9728f470f514826e89952df3ea\n",
      "Successfully built imutils\n",
      "Installing collected packages: imutils\n",
      "Successfully installed imutils-0.5.4\n"
     ]
    }
   ],
   "source": [
    "!pip install imutils"
   ]
  },
  {
   "cell_type": "code",
   "execution_count": 3,
   "metadata": {},
   "outputs": [],
   "source": [
    "img_homero = cv2.imread(\"./homero2.jpg\")\n",
    "img_trash = cv2.imread(\"./trash2.jpg\")"
   ]
  },
  {
   "cell_type": "code",
   "execution_count": null,
   "metadata": {},
   "outputs": [],
   "source": [
    "﻿\n",
    "\n",
    "#Import packages\n",
    "\n",
    "#Load the two images (city)\n",
    "img1 = cv2.imread(\"images/bikel.jpg\") img1= cv2.resize(img1, (600,360))\n",
    "img2=\n",
    "cv2.imread(\"images/bike2.jpg\")\n",
    "img2= cv2.resize(img2, (600,360))\n",
    "# Grayscale\n",
    "gray1 = cv2.cvtColor(img1, cv2.COLOR_BGR2GRAY) gray2 = cv2.cvtColor(img2, cv2.COLOR_BGR2GRAY)\n",
    "# Find the difference between the two images\n",
    "# Compute the mean structural similarity index\n",
    "(similar, diff) = compare_ssim (grayl, gray2, full=True)\n",
    "# diff is in range [0,1]. Convert it in range [0/1] [0, 255]\n",
    "diff = (diff*255).astype(\"uint8\")\n",
    "cv2.imshow(\"Difference\", diff)\n",
    "# Apply threshold\n",
    "thresh = cv2.threshold (diff, 0, 255, cv2.THRESH_BINARY_INV | cv2.THRESH_OTSU) [1] #cv2.imshow(\"Threshold\", thresh)\n",
    "# Dilation\n",
    "kernel = np.ones((5,5), np. uint8)\n",
    "dilate = cv2.dilate (thresh, kernel, iterations=2)\n",
    "cv2.imshow(\"Dilation\", dilate)\n",
    "#Find contours\n",
    "contours = cv2.findContours (dilate.copy(), cv2.RETR_EXTERNAL, cv2.CHAIN_APPROX_SIMPLE) contours = imutils.grab_contours (contours)\n",
    "۵\n",
    "Ln: 27 Col: 58"
   ]
  },
  {
   "cell_type": "code",
   "execution_count": null,
   "metadata": {},
   "outputs": [],
   "source": []
  },
  {
   "cell_type": "code",
   "execution_count": null,
   "metadata": {},
   "outputs": [],
   "source": [
    "#File Edit Format Run Options Window Help\n",
    "(similar, diff) = compare_ssim (grayl, gray2, full=True)\n",
    "# diff is in range [0,1]. Convert it in range [0,1]\n",
    "diff = (diff*255).astype(\"uint8\")\n",
    "cv2.imshow(\"Difference\", diff)\n",
    "# Apply threshold\n",
    "thresh = cv2.threshold (diff, 0, 255, cv2.THRESH_BINARY_INV | cv2.THRESH_OTSU)[1] #cv2.imshow(\"Threshold\", thresh)\n",
    "# Find contours\n",
    "contours = cv2.findContours (thresh.copy(), cv2.RETR_EXTERNAL, cv2.CHAIN_APPROX SIMPLE) contours = imutils.grab_contours (contours)\n",
    "# Loop over each contour\n",
    "for contour in contours:\n",
    "if cv2.contourArea (contour) > 100:\n",
    "# Calculate bounding box\n",
    "x, y, w, h= cv2.bounding Rect(contour)\n",
    "# Draw rectangle\n",
    "bounding box\n",
    "cv2.rectangle(img1, (x,y), (x+w, y+h), (0,0,255), 2)\n",
    "cv2.rectangle(img2, (x,y), (x+w, y+h), (0,0,255), 2)\n",
    "cv2.putText(img2, str(similar, (10,30), cv2.FONT_HERSHEY_SIMPLEX, .7, (255,0,0), 2)|\n",
    "#Show final images with differences\n",
    "x = np.zeros((360,10,3), np.uint8) result = np.hstack ((img1, x, img2)) cv2.imshow(\"Differences\", result)\n",
    "#cv2.imshow(\"Original City\", img1) #cv2.imshow(\"Edited\", img2)\n",
    "cv2.waitKey(0)\n",
    "cv2.destroyAllWindows()"
   ]
  }
 ],
 "metadata": {
  "kernelspec": {
   "display_name": "base",
   "language": "python",
   "name": "python3"
  },
  "language_info": {
   "codemirror_mode": {
    "name": "ipython",
    "version": 3
   },
   "file_extension": ".py",
   "mimetype": "text/x-python",
   "name": "python",
   "nbconvert_exporter": "python",
   "pygments_lexer": "ipython3",
   "version": "3.9.13"
  },
  "orig_nbformat": 4
 },
 "nbformat": 4,
 "nbformat_minor": 2
}
